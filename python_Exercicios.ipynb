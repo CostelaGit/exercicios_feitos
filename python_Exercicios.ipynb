{
  "cells": [
    {
      "cell_type": "markdown",
      "metadata": {
        "id": "hDwpoQ_0Jrz9"
      },
      "source": [
        "# Exercicios Sequencial\n",
        "\n"
      ]
    },
    {
      "cell_type": "markdown",
      "metadata": {
        "id": "tUjDrGvuJ_4a"
      },
      "source": [
        "Faça um Programa que mostre a mensagem \"Alo mundo\" na tela."
      ]
    },
    {
      "cell_type": "code",
      "execution_count": null,
      "metadata": {
        "colab": {
          "base_uri": "https://localhost:8080/"
        },
        "id": "4bzRwCR1CfRr",
        "outputId": "0072a907-4e8a-4526-dad6-7645e41a9246"
      },
      "outputs": [],
      "source": [
        "print(\"alo mundo\")"
      ]
    },
    {
      "cell_type": "markdown",
      "metadata": {
        "id": "P81OjrHWKJHY"
      },
      "source": [
        "Faça um Programa que peça um número e então mostre a mensagem O número informado foi [número]."
      ]
    },
    {
      "cell_type": "code",
      "execution_count": null,
      "metadata": {
        "colab": {
          "base_uri": "https://localhost:8080/"
        },
        "id": "NTbTCJRaKK5n",
        "outputId": "0cdb3b43-e080-4dfa-e320-545445b818fb"
      },
      "outputs": [],
      "source": [
        "numero = int(input(\"digite um numero: \"))\n",
        "print(\"O número informado foi: \", numero)"
      ]
    },
    {
      "cell_type": "markdown",
      "metadata": {
        "id": "bBuSDMo3Koo9"
      },
      "source": [
        "Faça um Programa que peça dois números e imprima a soma."
      ]
    },
    {
      "cell_type": "code",
      "execution_count": null,
      "metadata": {
        "colab": {
          "base_uri": "https://localhost:8080/"
        },
        "id": "ZxRaWiyRKwtr",
        "outputId": "fa1c986d-b99d-495e-f3ba-e32a4aafc3bd"
      },
      "outputs": [],
      "source": [
        "numero1 = int(input(\"digite primeiro numero: \"))\n",
        "numero2 = int(input(\"digite segundo numero: \"))\n",
        "soma = numero1 + numero2\n",
        "print(\"A soma dos numeros informados foi: \", soma)"
      ]
    },
    {
      "cell_type": "markdown",
      "metadata": {
        "id": "jp5jF6XRByiN"
      },
      "source": [
        "Faça um Programa que peça as 4 notas bimestrais e mostre a média."
      ]
    },
    {
      "cell_type": "code",
      "execution_count": null,
      "metadata": {
        "colab": {
          "base_uri": "https://localhost:8080/"
        },
        "id": "y7ZiCmbPB29M",
        "outputId": "08d049ac-2641-4545-ca85-d83aba1f11db"
      },
      "outputs": [],
      "source": [
        "nota1 = float(input(\"insira a 1° nota: \"))\n",
        "nota2 = float(input(\"insira a 2° nota: \"))\n",
        "nota3 = float(input(\"insira a 3° nota: \"))\n",
        "nota4 = float(input(\"insira a 4° nota: \"))\n",
        "\n",
        "media = (nota1 + nota2 + nota3 + nota4)/4\n",
        "\n",
        "print(\"a media é: \", media)"
      ]
    },
    {
      "cell_type": "markdown",
      "metadata": {
        "id": "-kOvspdoKchV"
      },
      "source": [
        "Faça um Programa que converta metros para centímetros."
      ]
    },
    {
      "cell_type": "code",
      "execution_count": null,
      "metadata": {
        "colab": {
          "base_uri": "https://localhost:8080/"
        },
        "id": "zciWu5uhKghW",
        "outputId": "bf521b2e-37d1-41ee-d436-c681cb73b82e"
      },
      "outputs": [],
      "source": [
        "metros = float(input(\"digite quantos metros: \"))\n",
        "metros_em_cm = metros * 100\n",
        "print(\"metros: %f \\nConvertido em centimetros: %f\" % (metros,metros_em_cm))"
      ]
    },
    {
      "cell_type": "markdown",
      "metadata": {
        "id": "nyeKWr-mLnxS"
      },
      "source": [
        "Faça um Programa que peça o raio de um círculo, calcule e mostre sua área"
      ]
    },
    {
      "cell_type": "code",
      "execution_count": null,
      "metadata": {
        "colab": {
          "base_uri": "https://localhost:8080/"
        },
        "id": "Fnx42ph7Lopg",
        "outputId": "476ce0dd-6309-4dc4-9dd5-e6eb826f8753"
      },
      "outputs": [],
      "source": [
        "raio = float(input(\"digite o tamanho do raio do circulo: \"))\n",
        "area = 3.14 * raio**2\n",
        "print(\"A área do circulo é: \", area)"
      ]
    },
    {
      "cell_type": "markdown",
      "metadata": {
        "id": "6NFC-rvIMeV6"
      },
      "source": [
        "Faça um Programa que calcule a área de um quadrado, em seguida mostre o dobro desta área para o usuário."
      ]
    },
    {
      "cell_type": "code",
      "execution_count": null,
      "metadata": {
        "colab": {
          "base_uri": "https://localhost:8080/"
        },
        "id": "kty2GSM0MfOr",
        "outputId": "0e8b7583-8365-4dbd-ba66-be6fbc00d155"
      },
      "outputs": [],
      "source": [
        "lado = float(input(\"digite o lado do quadrado: \"))\n",
        "area_q = lado**2\n",
        "area_q2 = area_q * 2\n",
        "print(\"O dobro da área do quadrado é: \", area_q2)"
      ]
    },
    {
      "cell_type": "markdown",
      "metadata": {
        "id": "lwH4p1rnOTUl"
      },
      "source": [
        "Faça um Programa que pergunte quanto você ganha por hora e o número de horas trabalhadas no mês. Calcule e mostre o total do seu salário no referido mês."
      ]
    },
    {
      "cell_type": "code",
      "execution_count": null,
      "metadata": {
        "colab": {
          "base_uri": "https://localhost:8080/"
        },
        "id": "EmNXZTefOWLD",
        "outputId": "1721a833-399c-4580-9307-6bee55079d7e"
      },
      "outputs": [],
      "source": [
        "por_hora = float(input(\"digite o quanto você ganha por hora: \"))\n",
        "num_hora = float(input(\"digite o número de horas trabalhadas no mês: \"))\n",
        "salario = por_hora * num_hora\n",
        "print(\"seu salário no mês é: \", salario)"
      ]
    },
    {
      "cell_type": "markdown",
      "metadata": {
        "id": "vbwXTICoTqHJ"
      },
      "source": [
        "Faça um Programa que peça a temperatura em graus Fahrenheit, transforme e mostre a temperatura em graus Celsius.\n",
        "C = 5 * ((F-32) / 9)."
      ]
    },
    {
      "cell_type": "code",
      "execution_count": null,
      "metadata": {
        "colab": {
          "base_uri": "https://localhost:8080/"
        },
        "id": "9gKWweavTrQo",
        "outputId": "3605a4fb-d255-4099-8d23-967e04ccbfd9"
      },
      "outputs": [],
      "source": [
        "graus_f = float(input(\"digite a temperatura em graus Fahrenheit: \"))\n",
        "graus_c = 5 * ((graus_f - 32) / 9)\n",
        "print(\"a temperatura transformada em graus Celsius: \", graus_c)"
      ]
    },
    {
      "cell_type": "markdown",
      "metadata": {
        "id": "xy3_DBDbUgZC"
      },
      "source": [
        "Faça um Programa que peça a temperatura em graus Celsius, transforme e mostre em graus Fahrenheit."
      ]
    },
    {
      "cell_type": "code",
      "execution_count": null,
      "metadata": {
        "colab": {
          "base_uri": "https://localhost:8080/"
        },
        "id": "MlrPzqk-Ugzq",
        "outputId": "8f8644d9-ff89-4154-bdc3-231701dc2ca5"
      },
      "outputs": [],
      "source": [
        "graus_c = float(input(\"digite a temperatura em graus Celsius: \"))\n",
        "graus_f = (graus_c * 9 / 5) + 32\n",
        "print(\"a temperatura transformada em graus Fahrenheit: \", graus_f)"
      ]
    },
    {
      "cell_type": "markdown",
      "metadata": {
        "id": "vc-jNRYwVmsF"
      },
      "source": [
        "Faça um Programa que peça 2 números inteiros e um número real. Calcule e mostre:\n",
        "*   O produto do dobro do primeiro com metade do segundo.\n",
        "*   a soma do triplo do primeiro com o terceiro.\n",
        "*   o terceiro elevado ao cubo\n"
      ]
    },
    {
      "cell_type": "code",
      "execution_count": null,
      "metadata": {
        "colab": {
          "base_uri": "https://localhost:8080/"
        },
        "id": "2T1AGcVUV_BZ",
        "outputId": "4491cf7d-5ab2-4e8a-a7e8-dc803b43709c"
      },
      "outputs": [],
      "source": [
        "num_1 = int(input(\"digite o primeiro numero inteiro: \"))\n",
        "num_2 = int(input(\"digite o segundo numero inteiro: \"))\n",
        "num_3 = float(input(\"digite o terceiro numero real: \"))\n",
        "\n",
        "q1 = (num_1 * 2) * (num_2 / 2)\n",
        "q2 = (num_1 * 3) + (num_3 * 3)\n",
        "q3 = num_3**3\n",
        "print(\"resposta da primeira questão: \", q1)\n",
        "print(\"resposta da segunda questão: \", q2)\n",
        "print(\"resposta da terceira questão: \", q3)"
      ]
    },
    {
      "cell_type": "markdown",
      "metadata": {
        "id": "-H64ncAKYzqE"
      },
      "source": [
        "Tendo como dados de entrada a altura de uma pessoa, construa um algoritmo que calcule seu peso ideal, usando a seguinte fórmula: (72.7*altura) - 58"
      ]
    },
    {
      "cell_type": "code",
      "execution_count": null,
      "metadata": {
        "colab": {
          "base_uri": "https://localhost:8080/"
        },
        "id": "spGiudI2Y0Oz",
        "outputId": "1284bff3-4380-490c-f6df-6c9fac6db2f7"
      },
      "outputs": [],
      "source": [
        "altura = float(input(\"digite a altura: \"))\n",
        "peso_ideal = (72.7 * altura) - 58\n",
        "print(\"Seu peso ideal é: \", peso_ideal)"
      ]
    },
    {
      "cell_type": "markdown",
      "metadata": {
        "id": "-17e0xVCZYyD"
      },
      "source": [
        "Tendo como dado de entrada a altura (h) de uma pessoa, construa um algoritmo que calcule seu peso ideal, utilizando as seguintes fórmulas:\n",
        "* Para homens: (72.7*h) - 58\n",
        "* Para mulheres: (62.1*h) - 44.7"
      ]
    },
    {
      "cell_type": "code",
      "execution_count": null,
      "metadata": {
        "colab": {
          "base_uri": "https://localhost:8080/"
        },
        "id": "XFYzg9PcZbkj",
        "outputId": "8ba8e47c-087d-435d-a3c0-e3421d616f8d"
      },
      "outputs": [],
      "source": [
        "altura = float(input(\"digite a altura: \"))\n",
        "peso_ideal_h = (72.7 * altura) - 58\n",
        "peso_ideal_m = (62.1 * altura - 44.7)\n",
        "\n",
        "print(\"se você for homem seu peso ideal é: \", peso_ideal_h)\n",
        "print(\"se você for mulher seu peso ideal é: \", peso_ideal_m)"
      ]
    },
    {
      "cell_type": "markdown",
      "metadata": {
        "id": "SXr5rmShZ6-0"
      },
      "source": [
        "João Papo-de-Pescador, homem de bem, comprou um microcomputador para controlar o rendimento diário de seu trabalho. Toda vez que ele traz um peso de peixes maior que o estabelecido pelo regulamento de pesca do estado de São Paulo (50 quilos) deve pagar uma multa de R$ 4,00 por quilo excedente. João precisa que você faça um programa que leia a variável peso (peso de peixes) e calcule o excesso. Gravar na variável excesso a quantidade de quilos além do limite e na variável multa o valor da multa que João deverá pagar. Imprima os dados do programa com as mensagens adequadas."
      ]
    },
    {
      "cell_type": "code",
      "execution_count": null,
      "metadata": {
        "colab": {
          "base_uri": "https://localhost:8080/"
        },
        "id": "-TGbyipjZ7oc",
        "outputId": "966b46f0-fa36-470a-f8f6-a5102de46165"
      },
      "outputs": [],
      "source": [
        "peso = float(input(\"digite o peso do peixe: \\n\"))\n",
        "if peso > 50:\n",
        "  print(\"peso maior que o regulamento permite \\nMulta deverá ser aplicada\")\n",
        "  excesso = peso - 50\n",
        "  multa = excesso * 4\n",
        "  print(\"o excesso é de: \", excesso)\n",
        "  print(\"a multa é de: \", multa)"
      ]
    },
    {
      "cell_type": "markdown",
      "metadata": {
        "id": "QggB0jh2bwg9"
      },
      "source": [
        "Faça um Programa que pergunte quanto você ganha por hora e o número de horas trabalhadas no mês. Calcule e mostre o total do seu salário no referido mês, sabendo-se que são descontados 11% para o Imposto de Renda, 8% para o INSS e 5% para o sindicato, faça um programa que nos dê:\n",
        "salário bruto.\n",
        "quanto pagou ao INSS.\n",
        "quanto pagou ao sindicato.\n",
        "o salário líquido.\n",
        "calcule os descontos e o salário líquido, conforme a tabela:![image.png](data:image/png;base64,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)\n"
      ]
    },
    {
      "cell_type": "code",
      "execution_count": null,
      "metadata": {
        "colab": {
          "base_uri": "https://localhost:8080/"
        },
        "id": "E9zsLuTPb671",
        "outputId": "d51d28d7-b15c-494f-925b-661c9dd1ce91"
      },
      "outputs": [],
      "source": [
        "por_hora = float(input(\"Digite o quanto você ganha por hora:\"))\n",
        "num_h = float(input(\"Digite a quantidade de horas trabalhadas no mês: \"))\n",
        "salário_bruto = por_hora * num_h\n",
        "IR = salário_bruto * 0.11\n",
        "INSS = salário_bruto * 0.08\n",
        "SINDICATO = salário_bruto * 0.05\n",
        "descontos = IR + INSS + SINDICATO\n",
        "Salario_liquido = salário_bruto - descontos\n",
        "\n",
        "print(\"Meu RH\\n+ Salário Bruto : R$ %f\\n- IR (11) : R$ %f\\n- INSS (8) : R$ %f\\n- Sindicato (5) : R$ %f\\n= Salário Liquido : R$ %f\" % (salário_bruto, IR, INSS, SINDICATO,Salario_liquido))"
      ]
    },
    {
      "cell_type": "markdown",
      "metadata": {
        "id": "2A777NBJeXuT"
      },
      "source": [
        "Faça um programa para uma loja de tintas. O programa deverá pedir o tamanho em metros quadrados da área a ser pintada. Considere que a cobertura da tinta é de 1 litro para cada 3 metros quadrados e que a tinta é vendida em latas de 18 litros, que custam R$ 80,00. Informe ao usuário a quantidades de latas de tinta a serem compradas e o preço total."
      ]
    },
    {
      "cell_type": "code",
      "execution_count": null,
      "metadata": {
        "colab": {
          "base_uri": "https://localhost:8080/"
        },
        "id": "nGI_5hQXeYcq",
        "outputId": "a38ef679-bec3-4885-d769-1aa893ac5500"
      },
      "outputs": [],
      "source": [
        "print(\"LG TINTAS\\n\")\n",
        "# 54 = 18 l = 1 lata\n",
        "area_pintada = float(input(\"digite o tamanho em metros quadrados da área a ser pintada: \"))\n",
        "cobertura_tinta =  area_pintada / 3\n",
        "print(\"\\nquantos litros de tintas serão utilizados: \",cobertura_tinta)\n",
        "latas_t = cobertura_tinta / 18\n",
        "print(\"\\nlatas a serem usadas: \",latas_t)\n",
        "\n",
        "preço = latas_t * 80\n",
        "print(\"preço: R$\", preço)"
      ]
    },
    {
      "cell_type": "markdown",
      "metadata": {
        "id": "ENtnMegJeYvR"
      },
      "source": [
        "Faça um Programa para uma loja de tintas. O programa deverá pedir o tamanho em metros quadrados da área a ser pintada. Considere que a cobertura da tinta é de 1 litro para cada 6 metros quadrados e que a tinta é vendida em latas de 18 litros, que custam R$ 80,00 ou em galões de 3,6 litros, que custam Rs   25,00.\n",
        "Informe ao usuário as quantidades de tinta a serem compradas e os respectivos preços em 3 situações:\n",
        "* comprar apenas latas de 18 litros;\n",
        "* comprar apenas galões de 3,6 litros;\n",
        "* ***misturar latas e galões, de forma que o desperdício de tinta seja menor. Acrescente 10% de folga e sempre arredonde os valores para cima, isto é, considere latas cheias.***"
      ]
    },
    {
      "cell_type": "code",
      "execution_count": null,
      "metadata": {
        "colab": {
          "base_uri": "https://localhost:8080/"
        },
        "id": "ccXt7VckemPZ",
        "outputId": "8b5c9618-60d3-446e-d89c-5e8db1a9a837"
      },
      "outputs": [],
      "source": [
        "print(\"LG TINTAS\")\n",
        "\n",
        "# 108m = 18l = 1Lata\n",
        "#entrada do usuario\n",
        "area_pintada = float(input(\"Digite o tamanho em metros quadrados da área a ser pintada: \"))\n",
        "\n",
        "#calculos\n",
        "cobert_t = area_pintada / 6\n",
        "latas_t = cobert_t / 18\n",
        "galoes_t = cobert_t / 3.6\n",
        "\n",
        "#apresentação para o usuario\n",
        "print(\"\\ncobertura da tinta (1L|6m²): \", cobert_t)\n",
        "print(\"\\nValor Unitario: R$80.00\\nlatas (fechadas): \", latas_t)\n",
        "print(\"\\nValor Unitario: R$25.00\\nGalões (fechados): \", galoes_t)"
      ]
    },
    {
      "cell_type": "markdown",
      "metadata": {
        "id": "iUmZYxXTevau"
      },
      "source": [
        "Faça um programa que peça o tamanho de um arquivo para download (em MB) e a velocidade de um link de Internet (em Mbps), calcule e informe o tempo aproximado de download do arquivo usando este link (em minutos)."
      ]
    },
    {
      "cell_type": "code",
      "execution_count": null,
      "metadata": {
        "id": "snY0qYnLew94"
      },
      "outputs": [],
      "source": []
    },
    {
      "cell_type": "markdown",
      "metadata": {
        "id": "9ElJSwAVZ3QI"
      },
      "source": [
        "# Exercicios De Decisão\n",
        "\n"
      ]
    },
    {
      "cell_type": "markdown",
      "metadata": {
        "id": "cgvnFsk6mr9c"
      },
      "source": [
        "Faça um Programa que peça dois números e imprima o maior deles."
      ]
    },
    {
      "cell_type": "code",
      "execution_count": null,
      "metadata": {
        "id": "p3Yw_4jAZ-0W"
      },
      "outputs": [],
      "source": [
        "num_1 = int(input(\"digite o primeiro numero: \"))\n",
        "num_2 = int(input(\"digite o segundo numero: \"))\n",
        "if num_1 > num_2:\n",
        "  print(\"maior numero: \",num_1)\n",
        "else:\n",
        "  print(\"maior numero: \",num_2)"
      ]
    },
    {
      "cell_type": "markdown",
      "metadata": {
        "id": "bd5Zpu1Pnou3"
      },
      "source": [
        "Faça um Programa que peça um valor e mostre na tela se o valor é positivo ou negativo."
      ]
    },
    {
      "cell_type": "code",
      "execution_count": null,
      "metadata": {
        "id": "SX0mKOkun1FZ"
      },
      "outputs": [],
      "source": [
        "num_1 = int(input(\"Digite o valor: \"))\n",
        "if num_1 >= 0:\n",
        "  print(\"numero é: %d\\nvalor é positivo\" % (num_1))\n",
        "else:\n",
        "  print(\"numero é: %d\\nvalor é negativo\" % (num_1))"
      ]
    },
    {
      "cell_type": "markdown",
      "metadata": {
        "id": "djzJkeuwoo2B"
      },
      "source": [
        "Faça um Programa que verifique se uma letra digitada é \"F\" ou \"M\". Conforme a letra escrever: F - Feminino, M - Masculino, Sexo Inválido."
      ]
    },
    {
      "cell_type": "code",
      "execution_count": null,
      "metadata": {
        "id": "tbVqAhcgoqRo"
      },
      "outputs": [],
      "source": [
        "sexo = input(\"digite F ou M: \")\n",
        "if sexo == 'F':\n",
        "  print(\"Feminino\")\n",
        "elif sexo == 'M':\n",
        "  print(\"Masculino\")\n",
        "else:\n",
        "  print(\"Sexo Inválido\")"
      ]
    },
    {
      "cell_type": "markdown",
      "metadata": {
        "id": "GiQykrIzqhzJ"
      },
      "source": [
        "Faça um Programa que verifique se uma letra digitada é vogal ou consoante."
      ]
    },
    {
      "cell_type": "code",
      "execution_count": null,
      "metadata": {
        "id": "Zr-2UbaiqiN3"
      },
      "outputs": [],
      "source": [
        "a = input(\"informe uma letra: consoante ou vogal: \")\n",
        "if a == 'a':\n",
        "  print(\"a letra informada é uma vogal\")\n",
        "elif a == 'e':\n",
        "  print(\"a letra informada é uma vogal\")\n",
        "elif a == 'i':\n",
        "  print(\"a letra informada é uma vogal\")\n",
        "elif a == 'o':\n",
        "  print(\"a letra informada é uma vogal\")\n",
        "elif a == 'u':\n",
        "  print(\"a letra informada é uma vogal\")\n",
        "else:\n",
        "  print(\"a letra informada é uma consoante\")"
      ]
    },
    {
      "cell_type": "markdown",
      "metadata": {
        "id": "RkEAKCIRrq_T"
      },
      "source": [
        "Faça um programa para a leitura de duas notas parciais de um aluno. O programa deve calcular a média alcançada por aluno e apresentar:\n",
        "* A mensagem \"Aprovado\", se a média alcançada for maior ou igual a sete;\n",
        "* A mensagem \"Reprovado\", se a média for menor do que sete;\n",
        "* A mensagem \"Aprovado com Distinção\", se a média for igual a dez."
      ]
    },
    {
      "cell_type": "code",
      "execution_count": null,
      "metadata": {
        "id": "haJw04LNruxM"
      },
      "outputs": [],
      "source": [
        "nota1 = int(input(\"digite a primeira nota parcial: \"))\n",
        "nota2 = int(input(\"digite a segunda nota parcial: \"))\n",
        "\n",
        "if (nota1 + nota2) / 2 >= 7:\n",
        "  print(\"Aprovado\")\n",
        "  if (nota1 + nota2) /2  == 10:\n",
        "    print(\"Aprovado com Distinção\")\n",
        "else:\n",
        "  print(\"Reprovado\")"
      ]
    },
    {
      "cell_type": "markdown",
      "metadata": {
        "id": "lmNbIT31svat"
      },
      "source": [
        "Faça um Programa que leia três números e mostre o maior deles."
      ]
    },
    {
      "cell_type": "code",
      "execution_count": null,
      "metadata": {
        "colab": {
          "base_uri": "https://localhost:8080/"
        },
        "id": "SD1xpjaEsv7d",
        "outputId": "e015fa2e-35f0-48a8-a4e7-7165004d5d52"
      },
      "outputs": [],
      "source": [
        "num1 = float(input(\"digite o 1° numero: \"))\n",
        "num2 = float(input(\"digite o 2° numero: \"))\n",
        "num3 = float(input(\"digite o 3° numero: \"))\n",
        "\n",
        "if num1 > num2 and num1 > num3:\n",
        "  print(\"maior numero deles: \", num1)\n",
        "elif num2 > num1 and num2 > num3:\n",
        "  print(\"maior numero deles: \", num2)\n",
        "elif num3 > num1 and num3 > num1:\n",
        "  print(\"maior numero deles: \", num3)\n",
        "else:\n",
        "  print(\"erro\")"
      ]
    },
    {
      "cell_type": "markdown",
      "metadata": {
        "id": "ftLWt1TMuar3"
      },
      "source": [
        "Faça um Programa que leia três números e mostre o maior e o menor deles."
      ]
    },
    {
      "cell_type": "code",
      "execution_count": null,
      "metadata": {
        "id": "EwToFaUnubNO"
      },
      "outputs": [],
      "source": [
        "num1 = float(input(\"digite o 1° numero: \"))\n",
        "num2 = float(input(\"digite o 2° numero: \"))\n",
        "num3 = float(input(\"digite o 3° numero: \"))\n",
        "\n",
        "maior = a\n",
        "if num1 > num2 and num1 > num3:\n",
        "  a = num1\n",
        "elif num2 > num1 and num2 > num3:\n",
        "  a = num2\n",
        "elif num3 > num1 and num3 > num1:\n",
        "  a = num3\n",
        "else:\n",
        "  print(\"erro\")\n",
        "\n",
        "menor = b\n",
        "if num1 < num2  and num1 < num3:\n",
        "  b = num1\n",
        "elif num2 < num1 and num2 < num3:\n",
        "  b = num2\n",
        "elif num3 < num1 and num3 < num2:\n",
        "  b = num3\n",
        "else:\n",
        "  print(\"error\")\n",
        "\n",
        "print(\"maior numero é: \", a)\n",
        "print(\"menor numero é: \", b)\n",
        "\n"
      ]
    },
    {
      "cell_type": "markdown",
      "metadata": {
        "id": "hq9QpmvAzDPe"
      },
      "source": [
        "Faça um programa que pergunte o preço de três produtos e informe qual produto você deve comprar, sabendo que a decisão é sempre pelo mais barato.\n"
      ]
    },
    {
      "cell_type": "code",
      "execution_count": null,
      "metadata": {
        "id": "3PCGsLb9zIqf"
      },
      "outputs": [],
      "source": [
        "num1 = float(input(\"digite o 1° numero: \"))\n",
        "num2 = float(input(\"digite o 2° numero: \"))\n",
        "num3 = float(input(\"digite o 3° numero: \"))\n",
        "\n",
        "menor = b\n",
        "if num1 < num2  and num1 < num3:\n",
        "  b = num1\n",
        "elif num2 < num1 and num2 < num3:\n",
        "  b = num2\n",
        "elif num3 < num1 and num3 < num2:\n",
        "  b = num3\n",
        "else:\n",
        "  print(\"error\")\n",
        "\n",
        "print(\"o mais barato é: \", b)"
      ]
    },
    {
      "cell_type": "markdown",
      "metadata": {
        "id": "Mds2IhXRzcmO"
      },
      "source": [
        "Faça um Programa que leia três números e mostre-os em ordem decrescente."
      ]
    },
    {
      "cell_type": "code",
      "execution_count": null,
      "metadata": {
        "colab": {
          "base_uri": "https://localhost:8080/"
        },
        "id": "7unv32Tgzed3",
        "outputId": "709f74c5-bc4a-4125-ab77-0e4d5f771fe6"
      },
      "outputs": [],
      "source": [
        "num1 = float(input('digite o 1° numero: '))\n",
        "num2 = float(input('digite o 2° numero: '))\n",
        "num3 = float(input('digite o 3° numero: '))\n",
        "\n",
        "maior = a\n",
        "if num1 > num2 and num1 > num3:\n",
        "  a = num1\n",
        "elif num2 > num1 and num2 > num3:\n",
        "  a = num2\n",
        "elif num3 > num1 and num3 > num1:\n",
        "  a = num3\n",
        "else:\n",
        "  print(\"erro\")\n",
        "\n",
        "menor = b\n",
        "if num1 < num2  and num1 < num3:\n",
        "  b = num1\n",
        "elif num2 < num1 and num2 < num3:\n",
        "  b = num2\n",
        "elif num3 < num1 and num3 < num2:\n",
        "  b = num3\n",
        "else:\n",
        "  print(\"error\")\n",
        "\n",
        "medio = c\n",
        "if num1 != a and b:\n",
        "  c = num1\n",
        "elif num2 != a and b:\n",
        "  c = num2\n",
        "elif num3 != a and b:\n",
        "  c = num3\n",
        "else:\n",
        "  print(\"error\")\n",
        "\n",
        "\n",
        "print('maior numero: ', a)\n",
        "print('medio numero: ', c)\n",
        "print('menor numero: ', b)"
      ]
    },
    {
      "cell_type": "markdown",
      "metadata": {
        "id": "mxu2I1k2-X_l"
      },
      "source": [
        "Faça um Programa que pergunte em que turno você estuda. Peça para digitar M-matutino ou V-Vespertino ou N- Noturno. Imprima a mensagem \"Bom Dia!\", \"Boa Tarde!\" ou \"Boa Noite!\" ou \"Valor Inválido!\", conforme o caso."
      ]
    },
    {
      "cell_type": "code",
      "execution_count": null,
      "metadata": {
        "colab": {
          "base_uri": "https://localhost:8080/"
        },
        "id": "_LBXDwGG-Yk9",
        "outputId": "d204ebbc-d3fd-49d5-c8d2-f1def57e4002"
      },
      "outputs": [],
      "source": [
        "turno = str(input('digite o turno que você estuda: '))\n",
        "\n",
        "if turno == 'M':\n",
        "  print('Bom Dia!')\n",
        "elif turno == 'V':\n",
        "  print('Boa Tarde!')\n",
        "elif turno == 'N':\n",
        "  print('Boa Noite!')\n",
        "else:\n",
        "  print('Valor Inválido!')"
      ]
    },
    {
      "cell_type": "markdown",
      "metadata": {
        "id": "ZPnvDOgwCPDV"
      },
      "source": [
        "As Organizações Tabajara resolveram dar um aumento de salário aos seus colaboradores e lhe contraram para desenvolver o programa que calculará os reajustes.\n",
        "Faça um programa que recebe o salário de um colaborador e o reajuste segundo o seguinte critério, baseado no salário atual:\n",
        "* salários até R$ 280,00 (incluindo): aumento de 20%\n",
        "\n",
        "* salários entre RS 280.00 e R$ 700,00 : aumento de 15%\n",
        "\n",
        "* salários entre RS 700,00 e R$ 1500,00 : aumento de 10%\n",
        "\n",
        "* salários de R$ 1500,00 em diante : aumento de 5% Após o aumento ser realizado, informe na tela:\n",
        "* o salário antes do reajuste;\n",
        "* o percentual de aumento aplicado;\n",
        "* o valor do aumento;\n",
        "* o novo salário, após o aumento."
      ]
    },
    {
      "cell_type": "code",
      "execution_count": null,
      "metadata": {
        "colab": {
          "base_uri": "https://localhost:8080/"
        },
        "id": "RHlvux7jCzcS",
        "outputId": "aebc9f09-f23f-4bd1-dd6a-fc65227e9d6b"
      },
      "outputs": [],
      "source": [
        "print(\"Organizações Tabajara - Reajuste de salario\\n\")\n",
        "salario = float(input('\\ndigite o seu salário:'))\n",
        "\n",
        "if salario <= 280:\n",
        "  p = float(0.2)\n",
        "  v = salario * p\n",
        "  s_aumento = salario + v\n",
        "  p = '20%'\n",
        "elif salario > 280 and salario < 700:\n",
        "  p = float(0.15)\n",
        "  v = salario * p\n",
        "  s_aumento = salario + v\n",
        "elif salario > 700 and salario < 1500:\n",
        "  p = float(0.10)\n",
        "  v = salario * p\n",
        "  s_aumento = salario + v\n",
        "elif salario > 1500:\n",
        "  p = float(0.05)\n",
        "  v = salario * p\n",
        "  s_aumento = salario + v\n",
        "else:\n",
        "  print('error')\n",
        "\n",
        "print('\\nsalario antes do reajuste: R$ ', salario)\n",
        "print('\\npercentual de aumento aplicado ao salario:', p)\n",
        "print('\\nvalor do aumento: R$ %.2f ' % (v))\n",
        "print('\\nnovo salário, após o aumento: R$', s_aumento)"
      ]
    },
    {
      "cell_type": "markdown",
      "metadata": {
        "id": "EnvXuUYc0ds0"
      },
      "source": [
        "Faça um programa para o cálculo de uma folha de pagamento, sabendo que os descontos são do Imposto de Renda, que depende do salário bruto (conforme tabela abaixo) e 3% para o Sindicato e que o FGTS corresponde a 11% do Salário Bruto, mas não é descontado (é a empresa que deposita). O Salário Líquido corresponde ao Salário Bruto menos os descontos. O programa deverá pedir ao usuário o valor da sua hora e a quantidade de horas trabalhadas no mês.\n",
        "\n",
        "\n",
        "Desconto do IR:\n",
        "Salário Bruto até 900 (inclusive) - isento\n",
        "\n",
        "Salário Bruto até 1500 (inclusive) - desconto de 5%\n",
        "\n",
        "Salário Bruto até 2500 (inclusive) - desconto de 10%\n",
        "\n",
        "Salário Bruto acima de 2500 - desconto de 20% Imprima na tela as informações, dispostas conforme o exemplo abaixo. No exemplo o valor da hora é 5 e a quantidade de hora é 220.\n",
        "\n"
      ]
    },
    {
      "cell_type": "code",
      "execution_count": null,
      "metadata": {
        "colab": {
          "base_uri": "https://localhost:8080/"
        },
        "id": "OOQ3x9lC0lD9",
        "outputId": "8fc442b2-13f7-4591-a843-dfc87d39d06f"
      },
      "outputs": [],
      "source": [
        "print('Software - Calculo de folha de pagamento:\\n')\n",
        "num_h = float(input('digite a quantidade de horas que você trabalhou:'))\n",
        "num_valor = float(input('digite o valor da sua hora: '))\n",
        "salario_bruto = num_h * num_valor\n",
        "\n",
        "if salario_bruto < 900:\n",
        "  inss = salario_bruto * 0.10\n",
        "  fgts = salario_bruto * 0.11\n",
        "  t_d = inss\n",
        "  sal_liq = salario_bruto - t_d\n",
        "\n",
        "  print(f'\\nSalario bruto: ({num_h} * {num_valor})\\t: R$', salario_bruto)\n",
        "  print('(-) IR (0%)\\t: Isento')\n",
        "  print('(-) INSS( 10%)\\t:R$', inss)\n",
        "  print('FGTS (11%)\\t:R$', fgts)\n",
        "  print('Total de descontos\\t:R$', t_d)\n",
        "  print('Salaário Liquido\\t:R$', sal_liq)\n",
        "\n",
        "elif salario_bruto > 900 and salario_bruto < 1500:\n",
        "  ir = salario_bruto * 0.05\n",
        "  inss = salario_bruto * 0.10\n",
        "  fgts = salario_bruto * 0.11\n",
        "  t_d = inss + ir\n",
        "  sal_liq = salario_bruto - t_d\n",
        "\n",
        "  print(f'\\nSalario bruto: ({num_h} * {num_valor})\\t: R$', salario_bruto)\n",
        "  print('(-) IR (5%)\\t:', ir)\n",
        "  print('(-) INSS( 10%)\\t:R$', inss)\n",
        "  print('FGTS (11%)\\t:R$', fgts)\n",
        "  print('Total de descontos\\t:R$', t_d)\n",
        "  print('Salaário Liquido\\t:R$', sal_liq)\n",
        "\n",
        "elif salario_bruto > 1500 and salario_bruto < 2500:\n",
        "  ir = salario_bruto * 0.10\n",
        "  inss = salario_bruto * 0.10\n",
        "  fgts = salario_bruto * 0.11\n",
        "  t_d = inss + ir\n",
        "  sal_liq = salario_bruto - t_d\n",
        "\n",
        "  print(f'\\nSalario bruto: ({num_h} * {num_valor})\\t: R$', salario_bruto)\n",
        "  print('(-) IR (10%)\\t:', ir)\n",
        "  print('(-) INSS( 10%)\\t:R$', inss)\n",
        "  print('FGTS (11%)\\t:R$', fgts)\n",
        "  print('Total de descontos\\t:R$', t_d)\n",
        "  print('Salaário Liquido\\t:R$', sal_liq)\n",
        "elif salario_bruto > 2500:\n",
        "  ir = salario_bruto * 0.20\n",
        "  inss = salario_bruto * 0.10\n",
        "  fgts = salario_bruto * 0.11\n",
        "  t_d = inss + ir\n",
        "  sal_liq = salario_bruto - t_d\n",
        "\n",
        "  print(f'\\nSalario bruto: ({num_h} * {num_valor})\\t: R$', salario_bruto)\n",
        "  print('(-) IR (10%)\\t:', ir)\n",
        "  print('(-) INSS( 10%)\\t:R$', inss)\n",
        "  print('FGTS (11%)\\t:R$', fgts)\n",
        "  print('Total de descontos\\t:R$', t_d)\n",
        "  print('Salaário Liquido\\t:R$', sal_liq)\n",
        "else:\n",
        "  print('error')"
      ]
    },
    {
      "cell_type": "markdown",
      "metadata": {
        "id": "CMaAELGZrQwF"
      },
      "source": [
        "Faça um Programa que leia um número e exiba o dia correspondente da semana. (1-Domingo, 2- Segunda, etc.), se digitar outro valor deve aparecer valor inválido.\n"
      ]
    },
    {
      "cell_type": "code",
      "execution_count": null,
      "metadata": {
        "id": "olvdDHixrSMk"
      },
      "outputs": [],
      "source": [
        "print('--------------\\n dia da semana \\n--------------\\n')\n",
        "dia_num = int(input('digite (1-7) para obter o dia da semana: '))\n",
        "\n",
        "if dia_num == 1:\n",
        "  print('1-Domingo')\n",
        "elif dia_num == 2:\n",
        "  print('2-Segunda')\n",
        "elif dia_num == 3:\n",
        "  print('3-Terça')\n",
        "elif dia_num == 4:\n",
        "  print('4-Quarta')\n",
        "elif dia_num == 5:\n",
        "  print('5-Quinta')\n",
        "elif dia_num == 6:\n",
        "  print('6-Sexta')\n",
        "elif dia_num == 7:\n",
        "  print('7-Sabado')\n",
        "else:\n",
        "  print('valor inválido')"
      ]
    },
    {
      "cell_type": "markdown",
      "metadata": {
        "id": "z6OXZYZqsiKz"
      },
      "source": [
        "Faça um programa que lê as duas notas parciais obtidas por um aluno numa disciplina ao longo de um semestre, e calcule a sua média. A atribuição de conceitos obedece à tabela abaixo:![image.png](data:image/png;base64,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)\n",
        "\n",
        "\n",
        "O algoritmo deve mostrar na tela as notas, a média, o conceito correspondente e a mensagem “APROVADO” se o conceito for A, B ou C ou “REPROVADO” se o conceito for D ou E."
      ]
    },
    {
      "cell_type": "code",
      "execution_count": null,
      "metadata": {
        "id": "yevhcS8isomr"
      },
      "outputs": [],
      "source": [
        "print('--------------\\nnotas parciais\\n--------------\\n')\n",
        "nota1 = float(input('digite a primeira nota parcial: '))\n",
        "nota2 = float(input('digite a segunda nota parcial: '))\n",
        "media = (nota1 + nota2) / 2\n",
        "\n",
        "if media >= 9.0 and media <= 10:\n",
        "  print('Conceito A - Aprovado')\n",
        "elif media >= 7.5 and media <= 9.0:\n",
        "  print('Conceito B - Aprovado')\n",
        "elif media >= 6.0 and media <= 7.5:\n",
        "  print('Conceito C - Aprovado')\n",
        "elif media >= 4.0 and media <= 6.0:\n",
        "  print('Conceito D - Reprovado')\n",
        "elif media >= 0 and media <= 4.0:\n",
        "  print('Conceito E - Reprovado')\n",
        "else:\n",
        "  print('error')"
      ]
    },
    {
      "cell_type": "markdown",
      "metadata": {
        "id": "Hg3Pw9YN5F3w"
      },
      "source": [
        "Faça um Programa que peça os 3 lados de um triângulo. O programa deverá informar se os valores podem ser um triângulo. Indique, caso os lados formem um triângulo, se o mesmo é: equilátero, isósceles ou escaleno.\n",
        "\n",
        "Dicas:\n",
        "Três lados formam um triângulo quando a soma de quaisquer dois lados for maior que o terceiro;\n",
        "Triângulo Equilátero: três lados iguais;\n",
        "Triângulo Isósceles: quaisquer dois lados iguais;\n",
        "Triângulo Escaleno: três lados diferentes;"
      ]
    },
    {
      "cell_type": "code",
      "execution_count": null,
      "metadata": {
        "colab": {
          "base_uri": "https://localhost:8080/"
        },
        "id": "25ocK6GHkx6Q",
        "outputId": "bfdb4833-7ecd-4cd4-872f-b6c2deebeea0"
      },
      "outputs": [],
      "source": [
        "print('-----------------Programa Triangulo--------------\\n')\n",
        "lado1 = int(input('Digite o primeiro lado do triangulo:'))\n",
        "lado2 = int(input('Digite o segundo lado do triangulo: '))\n",
        "lado3 = int(input('Digite o terceiro lado do triangulo: '))\n",
        "\n",
        "# Se é triangulo ou não\n",
        "if lado1 + lado2 > lado3 or lado1 + lado3 > lado2:\n",
        "  print('\\né um triangulo')\n",
        "elif lado2 + lado1 > lado3 or lado2 + lado3 > lado1:\n",
        "  print('\\né um triangulo')\n",
        "elif lado3 + lado2 > lado1 or lado3 + lado1 > lado2:\n",
        "  print('\\né um triangulo')\n",
        "else:\n",
        "  print('error')\n",
        "\n",
        "\n",
        "#verificar qual tipo de triangulo é [Equilatero, isósceles, escaleno]\n",
        "if lado1 == lado2 and lado1 == lado3:\n",
        "  print('Equilatero')\n",
        "elif lado2 == lado1 and lado2 == lado3:\n",
        "  print('Equilatero')\n",
        "elif lado3 == lado2 and lado3 == lado1:\n",
        "  print('Equilatero')\n",
        "else:\n",
        "  print('error')\n",
        "\n",
        "\n"
      ]
    },
    {
      "cell_type": "markdown",
      "metadata": {
        "id": "tVSsFtGHHr8B"
      },
      "source": [
        "Faça um programa que calcule as raízes de uma equação do segundo grau, na forma ax² + bx + c.\n",
        "O programa deverá pedir os valores de a, b e c e fazer as consistências, informando ao usuário nas seguintes situações:\n",
        "\n",
        "Se o usuário informar o valor de A igual a zero, a equação não\n",
        "é do segundo grau e o programa não deve fazer pedir os demais valores, sendo encerrado;\n",
        "\n",
        "Se o delta calculado for negativo, a equação não possui raizes reais. Informe ao usuário e encerre o programa;\n",
        "\n",
        "Se o delta calculado for igual a zero a equação possui apenas uma raiz real; informe-a ao usuário;\n",
        "\n",
        "Se o delta for positivo, a equação possui duas raiz reais; informe-as ao usuário;"
      ]
    },
    {
      "cell_type": "code",
      "execution_count": null,
      "metadata": {
        "colab": {
          "base_uri": "https://localhost:8080/"
        },
        "id": "3QunP8TDtPBf",
        "outputId": "49306134-0872-4ca5-9610-f73aa628bdd4"
      },
      "outputs": [],
      "source": [
        "print('-----------------------programa calc raízes--------------------------')\n",
        "print('seguindo a forma da equação do segundo grau = ax² + bx + c; informe:')\n",
        "a = int(input('o valor de a:'))\n",
        "\n",
        "if a == 0:\n",
        "  print('equacao nao é do segundo grau')\n",
        "else:\n",
        " b = int(input('o valor de b:'))\n",
        " c = int(input('o valor de c:'))\n",
        "\n",
        " d = (b**2) - 4 * a * c\n",
        " if d < 0:\n",
        "  print('a equacao nao possui raízes reais.')\n",
        " elif d == 0:\n",
        "    print('equacao possui apenas uma raiz real.')\n",
        " elif d > 0:\n",
        "    print('equacao possui duas raizes reais')\n",
        "\n",
        "    x1 = (-b + (d**0.5)) / 2*a\n",
        "    x2 = (-b - (d**0.5)) / 2*a\n",
        "\n",
        "    print('respostas:', x1, '', x2)\n"
      ]
    },
    {
      "cell_type": "code",
      "execution_count": null,
      "metadata": {
        "colab": {
          "base_uri": "https://localhost:8080/"
        },
        "id": "LjRxGLJbHrqK",
        "outputId": "8ca46eee-006d-4b5d-f5f6-4450d61c44ec"
      },
      "outputs": [],
      "source": [
        "import sys\n",
        "\n",
        "def sai():\n",
        "  if a == 0:\n",
        "    sys.exit()\n",
        "\n",
        "print('------------------------programa calc raizes------------------------')\n",
        "print('seguindo a forma de equação do segundo grau = ax² + bx + c; informe:')\n",
        "a = int(input(\"o valor de a:\"))\n",
        "if a ==0:\n",
        "  sys.exit('equacao nao e do segundo grau')\n",
        "\n",
        "\n",
        "b = int(input(\"o valor de b:\"))\n",
        "c = int(input(\"o valor de c:\"))\n",
        "\n",
        "d = (b**2) - 4 * a * c\n",
        "if d < 0:\n",
        "  print('a equacao nao possui raizes reais.')\n",
        "  sys.exit()\n",
        "elif d == 0:\n",
        "  print('equacao possui apenas uma raiz real.')\n",
        "\n",
        "elif d > 0:\n",
        "  print('equacao possui duas raizes reais')\n",
        "\n",
        "x1 = (-b + (d**0.5)) / 2*a\n",
        "x2 = (-b - (d**0.5)) / 2*a\n",
        "\n",
        "print('respostas: ', x1,'', x2)\n",
        "\n"
      ]
    },
    {
      "cell_type": "markdown",
      "metadata": {
        "id": "QuLy6WKxO1n6"
      },
      "source": [
        "Faça um Programa que peça um número correspondente a um determinado ano e em seguida informe se este ano é ou não bissexto."
      ]
    },
    {
      "cell_type": "code",
      "execution_count": null,
      "metadata": {
        "colab": {
          "base_uri": "https://localhost:8080/"
        },
        "id": "yBrEJybW7ztI",
        "outputId": "2e2a9a89-ed0a-4b6a-a245-e1d2d207e7ca"
      },
      "outputs": [],
      "source": [
        "ano = int(input('digite o ano:  '))\n",
        "if ano // 4 and (ano % 4) == 0 :\n",
        "  print('ano divisivel por 4')\n",
        "  if ano // 100 and (ano % 100) == 0:\n",
        "    print('ano divisivel por 100')\n",
        "    if ano // 400 and (ano % 400) == 0:\n",
        "      print('ano divisivel por 400')\n",
        "      print('ano bissexto')\n",
        "else:\n",
        "  print('não é bissexto')"
      ]
    },
    {
      "cell_type": "code",
      "execution_count": null,
      "metadata": {
        "colab": {
          "base_uri": "https://localhost:8080/"
        },
        "id": "S6F8AUFbKVfp",
        "outputId": "833f683b-8eaf-436a-b55a-c690bae504f2"
      },
      "outputs": [],
      "source": [
        "ano = int(input('digite o ano:  '))\n",
        "if ano % 400 == 0:\n",
        "  print('ano bissexto')\n",
        "else:\n",
        "  if (ano % 4) == 0 and (ano % 100) != 0:\n",
        "    print('ano bissexto')\n",
        "  else:\n",
        "    print('ano não é bissexto')"
      ]
    },
    {
      "cell_type": "markdown",
      "metadata": {
        "id": "rN01WWBfUjE0"
      },
      "source": [
        "Faça um Programa que peça uma data no formato dd/mm/aaaa e determine se a mesma é uma data válida.\n",
        "\n",
        "\n",
        "\n"
      ]
    },
    {
      "cell_type": "markdown",
      "metadata": {
        "id": "2a1zG-95aAks"
      },
      "source": [
        "# Exercicios Repetição\n",
        "\n"
      ]
    },
    {
      "cell_type": "markdown",
      "metadata": {
        "id": "lgq0f-mHLXsB"
      },
      "source": [
        "1. Faça um programa que peça uma nota, entre zero e dez. Mostre uma mensagem caso o valor seja inválido e continue pedindo até que o usuário informe um valor válido."
      ]
    },
    {
      "cell_type": "code",
      "execution_count": null,
      "metadata": {
        "colab": {
          "base_uri": "https://localhost:8080/"
        },
        "id": "LmP6NRc-LYWQ",
        "outputId": "ef13b75d-d189-4386-c4bc-64729e475f02"
      },
      "outputs": [],
      "source": [
        "print('digite uma nota de 0 a 10:')\n",
        "x = int(input(''))\n",
        "while x != 0:\n",
        "  print('numero diferente do desejado tente novamente.')\n",
        "  x = int(input(''))"
      ]
    },
    {
      "cell_type": "markdown",
      "metadata": {
        "id": "yFvioPBURNGf"
      },
      "source": [
        "\n",
        "2. Faça um programa que leia um nome de usuário e a sua senha e não aceite a senha igual ao nome do usuário, mostrando uma mensagem de erro e voltando a pedir as informações."
      ]
    },
    {
      "cell_type": "code",
      "execution_count": null,
      "metadata": {
        "colab": {
          "base_uri": "https://localhost:8080/"
        },
        "id": "bNTylKvyRPVa",
        "outputId": "5e2719a8-1e4a-48bf-d449-1342b2c61d90"
      },
      "outputs": [],
      "source": [
        "print('digite o nome de usuario:')\n",
        "Nu = input('')\n",
        "print('\\ndigite a senha: ')\n",
        "S = input('')\n",
        "while Nu == S:\n",
        "  print('\\n Nome de usuario e senha iguais, favor diferenciar.')\n",
        "  print('digite o nome de usuario: ')\n",
        "  Nu = input('')\n",
        "  print('digite a senha:')\n",
        "  S = input('')\n",
        "else:\n",
        "  print('sucesso!')\n"
      ]
    },
    {
      "cell_type": "markdown",
      "metadata": {
        "id": "a6sUxHf4Szmn"
      },
      "source": [
        "3. Faça um programa que leia e valide as seguintes informações:\n",
        "\n",
        "Nome: maior que 3 caracteres;\n",
        "\n",
        "Idade: entre 0 e 150;\n",
        "\n",
        "Salário: maior que zero;\n",
        "\n",
        "Sexo: 'f' ou 'm';\n",
        "\n",
        "Estado Civil: 's', 'c', 'v', 'd';"
      ]
    },
    {
      "cell_type": "code",
      "execution_count": null,
      "metadata": {
        "colab": {
          "base_uri": "https://localhost:8080/"
        },
        "id": "Q79lTG9US4xw",
        "outputId": "aebc298a-2089-465d-a10f-46cbb98f90d6"
      },
      "outputs": [],
      "source": [
        "print('-------prog de cadastro de usuario-------')\n",
        "\n",
        "print('\\n digite o seu nome:')\n",
        "nome = input('')\n",
        "while len(nome) <= 3:\n",
        "  print('nome deve ser maior que 3 caracteres, digite novamente:')\n",
        "  nome = input('')\n",
        "\n",
        "print('digite sua idade:')\n",
        "idade = int(input(''))\n",
        "while idade < 0 or idade > 150:\n",
        "  print('idade não permitida, digite novamente:')\n",
        "  idade = int(input(''))\n",
        "\n",
        "print('digite o seu salario:')\n",
        "salario = float(input(''))\n",
        "while salario <= 0:\n",
        "  print('digite novamente:')\n",
        "  salario = float(input(''))\n",
        "\n",
        "print('digite o seu sexo:')\n",
        "sexo = input('')\n",
        "while sexo != 'f' and sexo != 'm':\n",
        "  sexo = input('sexo invalido, digite novamente:')\n",
        "\n",
        "print('digite seu estado civil | solteiro(a), casado(a), viuvo(a), divorciado(a)')\n",
        "EC = input('')\n",
        "while EC not in ['s','c','v','d' ]:\n",
        "  print('estado civil invalido, digite novamente')\n",
        "  EC = input('')\n"
      ]
    },
    {
      "cell_type": "markdown",
      "metadata": {
        "id": "pEH1x2VtaCNH"
      },
      "source": [
        "4. Supondo que a população de um país A seja da ordem de 80.000 habitantes com uma taxa anual de crescimento de 3% e que a população de B seja 200.000 habitantes com uma taxa de crescimento de 1.5%.\n",
        "\n",
        "Faça um programa que calcule e escreva o número de anos necessários para que a população do país A ultrapasse ou iguale a população do país B, mantidas as taxas de crescimento."
      ]
    },
    {
      "cell_type": "code",
      "execution_count": null,
      "metadata": {
        "colab": {
          "base_uri": "https://localhost:8080/"
        },
        "id": "8sXPcUpvaFkV",
        "outputId": "b4f9d626-cc1e-4a35-acf9-66fd74e728d4"
      },
      "outputs": [],
      "source": [
        "A = 80.000\n",
        "B = 200.000\n",
        "C = 0\n",
        "while A < B or A == B:\n",
        "  A = A + (A * 0.03)\n",
        "  B = B + (B * 0.015)\n",
        "  C += 1\n",
        "print('foi necessario', C, 'anos')"
      ]
    },
    {
      "cell_type": "markdown",
      "metadata": {
        "id": "oAuoxprTds75"
      },
      "source": [
        "5. Altere o programa anterior permitindo ao usuário informar as populações e as taxas de crescimento iniciais. Valide a entrada e permita repetir a operação."
      ]
    },
    {
      "cell_type": "code",
      "execution_count": null,
      "metadata": {
        "colab": {
          "base_uri": "https://localhost:8080/"
        },
        "id": "QPBDIIGxduxZ",
        "outputId": "2d0cc51f-4f48-4ed1-f622-8412d7652df5"
      },
      "outputs": [],
      "source": [
        "A = float(input('digite a população A:'))\n",
        "Ap = float(input('digite o percentual de crescimento da população A '))\n",
        "B = float(input('\\ndigite a população B:'))\n",
        "Bp = float(input('digite o percentual de crescimento da população A '))\n",
        "\n",
        "C = 0\n",
        "while A < B or A == B:\n",
        "  A = A + (A * (Ap / 100))\n",
        "  B = B + (B * (Bp / 100))\n",
        "  C += 1\n",
        "print('foi necessario', C, 'anos')"
      ]
    },
    {
      "cell_type": "markdown",
      "metadata": {
        "id": "JV7tG3QTfpfN"
      },
      "source": [
        "6. Faça um programa que imprima na tela os números de 1 a 20, um abaixo do outro. Depois modifique o programa para que ele mostre os números um ao lado do outro."
      ]
    },
    {
      "cell_type": "code",
      "execution_count": null,
      "metadata": {
        "colab": {
          "base_uri": "https://localhost:8080/"
        },
        "id": "D9WgRFftkEzy",
        "outputId": "5682095e-a911-4ff5-a7bc-d9f1f4fa63b7"
      },
      "outputs": [],
      "source": [
        "for x in range(1, 21):\n",
        "  print(x)\n",
        "\n",
        "for x in range(1, 21):\n",
        "  print(x, end=' ')"
      ]
    },
    {
      "cell_type": "code",
      "execution_count": null,
      "metadata": {
        "colab": {
          "base_uri": "https://localhost:8080/"
        },
        "id": "Q5l8R2nefqm6",
        "outputId": "a8a9465f-495a-4c76-f5e5-c999c17840d1"
      },
      "outputs": [],
      "source": [
        "numeros = [1, 2, 3, 4, 5, 6, 7, 8, 9 ,10, 11, 12, 13, 14, 15, 16, 17, 18, 19, 20]\n",
        "for x in numeros:\n",
        "  print(x)\n",
        "print(numeros)"
      ]
    },
    {
      "cell_type": "markdown",
      "metadata": {
        "id": "_gSYSpk4l8_m"
      },
      "source": [
        "7. Faça um programa que leia 5 números e informe o maior número."
      ]
    },
    {
      "cell_type": "code",
      "execution_count": null,
      "metadata": {
        "colab": {
          "base_uri": "https://localhost:8080/"
        },
        "id": "9ae2mNaEmBfq",
        "outputId": "cef880fc-8fd9-421d-f271-9b3c4e8ee851"
      },
      "outputs": [],
      "source": [
        "maior_numero = None\n",
        "for x in range(5):\n",
        "  numero = float(input('digite o numero: '))\n",
        "  if maior_numero is None or numero > maior_numero:\n",
        "    maior_numero = numero\n",
        "\n",
        "\n",
        "print('o maior numero é: ', maior_numero)"
      ]
    },
    {
      "cell_type": "markdown",
      "metadata": {
        "id": "Gt3leOgZqxLp"
      },
      "source": [
        "8. Faça um programa que leia 5 números e informe a soma e a média dos números."
      ]
    },
    {
      "cell_type": "code",
      "execution_count": null,
      "metadata": {
        "colab": {
          "base_uri": "https://localhost:8080/"
        },
        "id": "cTN5u1ukqyW1",
        "outputId": "a6873371-ae32-48e9-a4b0-c69749003b20"
      },
      "outputs": [],
      "source": [
        "soma = 0\n",
        "media = 0\n",
        "for x in range(5):\n",
        "  numero = float(input('digite o numero:'))\n",
        "  soma += numero\n",
        "media = soma / 5\n",
        "print('a soma é:', soma,'\\ne a media é:', media )"
      ]
    },
    {
      "cell_type": "markdown",
      "metadata": {
        "id": "hj4d4Yfey88I"
      },
      "source": [
        "9. Faça um programa que imprima na tela apenas os números ímpares entre 1 e 50."
      ]
    },
    {
      "cell_type": "code",
      "execution_count": null,
      "metadata": {
        "id": "K24hIFG2y-4X"
      },
      "outputs": [],
      "source": [
        "numero = 1\n",
        "for x in range(50)\n",
        " numero = 2 *\n"
      ]
    },
    {
      "cell_type": "markdown",
      "metadata": {
        "id": "TaQcQADXaDPU"
      },
      "source": [
        "# Exercicios De Lista\n",
        "\n",
        "\n"
      ]
    },
    {
      "cell_type": "markdown",
      "metadata": {
        "id": "CkrI1TIhaZk5"
      },
      "source": [
        "# Exercicios De Funções\n",
        "\n"
      ]
    },
    {
      "cell_type": "markdown",
      "metadata": {
        "id": "Ul7aewWTaZ15"
      },
      "source": [
        "# Exercicios De Com Strings\n",
        "\n",
        "\n"
      ]
    },
    {
      "cell_type": "markdown",
      "metadata": {
        "id": "3_xSITDVabFp"
      },
      "source": [
        "# Exercicios Com Arquivos\n",
        "\n",
        "\n"
      ]
    },
    {
      "cell_type": "markdown",
      "metadata": {
        "id": "f8rPtUd8ab8X"
      },
      "source": [
        "# Exercicios De Classes\n",
        "\n",
        "\n"
      ]
    },
    {
      "cell_type": "markdown",
      "metadata": {
        "id": "U8-E-tuwaccv"
      },
      "source": [
        "# lista de exercicios projetos\n",
        "\n",
        "\n"
      ]
    },
    {
      "cell_type": "code",
      "execution_count": null,
      "metadata": {
        "id": "z4noumzVpZ7r"
      },
      "outputs": [],
      "source": [
        "def crivoEratostenes():\n",
        "\tnumero = int(input('digite o limete do intervalo'))\n",
        "\tnumeros = []\n",
        "\tfor i in range(numero+1):\n",
        "\t\tnumero.append(True)\n",
        "\n",
        "\tfor m in range(2, int(len(numeros)/2)):\n",
        "\t\tfor n in range(2*m,len(numeros),m):\n",
        "\t\t\tif numeros[n] == True:\n",
        "\t\t\t\tnumeros[n] == False\n",
        "\n",
        "\tfor j in range(len(numeros)):\n",
        "\t\tif j>=2:\n",
        "\t\t\tif numeros[j] == True:\n",
        "\t\t\t\tprint(j)"
      ]
    }
  ],
  "metadata": {
    "colab": {
      "provenance": []
    },
    "kernelspec": {
      "display_name": "Python 3",
      "name": "python3"
    },
    "language_info": {
      "codemirror_mode": {
        "name": "ipython",
        "version": 3
      },
      "file_extension": ".py",
      "mimetype": "text/x-python",
      "name": "python",
      "nbconvert_exporter": "python",
      "pygments_lexer": "ipython3",
      "version": "3.12.0"
    }
  },
  "nbformat": 4,
  "nbformat_minor": 0
}
